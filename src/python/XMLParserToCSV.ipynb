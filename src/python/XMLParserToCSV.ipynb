{
 "cells": [
  {
   "cell_type": "code",
   "execution_count": 5,
   "metadata": {},
   "outputs": [
    {
     "name": "stdout",
     "output_type": "stream",
     "text": [
      "✅ Cleaned Q&A CSV generated: drugbank_qna_clean.csv\n"
     ]
    }
   ],
   "source": [
    "import xml.etree.ElementTree as ET\n",
    "import csv\n",
    "\n",
    "# Input & Output Files\n",
    "xml_file = 'DBank_FullDB.xml'  # Replace with actual filename\n",
    "csv_file = 'drugbank_qna_clean.csv'\n",
    "\n",
    "# Namespace used in DrugBank XML\n",
    "ns = {'db': 'http://www.drugbank.ca'}\n",
    "\n",
    "with open(csv_file, 'w', newline='', encoding='utf-8') as csvfile:\n",
    "    writer = csv.writer(csvfile)\n",
    "    writer.writerow(['input', 'output'])\n",
    "\n",
    "    # Efficient parsing\n",
    "    context = ET.iterparse(xml_file, events=('end',))\n",
    "\n",
    "    for event, elem in context:\n",
    "        if elem.tag == f'{{{ns[\"db\"]}}}drug':\n",
    "            # Extract fields\n",
    "            drug_id = elem.findtext('db:drugbank-id', default='', namespaces=ns).strip()\n",
    "            name = elem.findtext('db:name', default='', namespaces=ns).strip()\n",
    "            description = elem.findtext('db:description', default='', namespaces=ns).strip()\n",
    "            indication = elem.findtext('db:indication', default='', namespaces=ns).strip()\n",
    "            mechanism = elem.findtext('db:mechanism-of-action', default='', namespaces=ns).strip()\n",
    "            toxicity = elem.findtext('db:toxicity', default='', namespaces=ns).strip()\n",
    "            dosage_form = elem.findtext('db:dosage-form', default='', namespaces=ns).strip()\n",
    "\n",
    "            # Categories\n",
    "            categories = []\n",
    "            for cat in elem.findall('.//db:categories/db:category/db:category', namespaces=ns):\n",
    "                if cat is not None and cat.text:\n",
    "                    categories.append(cat.text.strip())\n",
    "            categories_text = ', '.join(categories)\n",
    "\n",
    "            # Manufacturer\n",
    "            manufacturer = elem.findtext('db:manufacturers/db:manufacturer', default='', namespaces=ns).strip()\n",
    "\n",
    "            # Write Q&A only if data exists\n",
    "            if drug_id and name:\n",
    "                writer.writerow([f\"What is the name of the drug with ID {drug_id}?\", name])\n",
    "            if name and description:\n",
    "                writer.writerow([f\"Describe {name}.\", description])\n",
    "            if name and indication:\n",
    "                writer.writerow([f\"What is the indication for {name}?\", indication])\n",
    "            if name and mechanism:\n",
    "                writer.writerow([f\"What is the mechanism of action of {name}?\", mechanism])\n",
    "            if name and dosage_form:\n",
    "                writer.writerow([f\"What is the dosage form of {name}?\", dosage_form])\n",
    "            if name and categories_text:\n",
    "                writer.writerow([f\"What are the categories of {name}?\", categories_text])\n",
    "            if name and manufacturer:\n",
    "                writer.writerow([f\"Who manufactures {name}?\", manufacturer])\n",
    "            if name and toxicity:\n",
    "                writer.writerow([f\"What are the toxicity/side effects of {name}?\", toxicity])\n",
    "\n",
    "            # Drug interactions\n",
    "            interactions = elem.findall('.//db:drug-interactions/db:drug-interaction', namespaces=ns)\n",
    "            for inter in interactions:\n",
    "                inter_drug = inter.findtext('db:name', default='', namespaces=ns).strip()\n",
    "                inter_desc = inter.findtext('db:description', default='', namespaces=ns).strip()\n",
    "                if name and inter_drug and inter_desc:\n",
    "                    writer.writerow([f\"Does {name} interact with {inter_drug}?\", inter_desc])\n",
    "\n",
    "            # Clear element to free memory\n",
    "            elem.clear()\n",
    "\n",
    "print(f\"\\u2705 Cleaned Q&A CSV generated: {csv_file}\")\n"
   ]
  }
 ],
 "metadata": {
  "kernelspec": {
   "display_name": "base",
   "language": "python",
   "name": "python3"
  },
  "language_info": {
   "codemirror_mode": {
    "name": "ipython",
    "version": 3
   },
   "file_extension": ".py",
   "mimetype": "text/x-python",
   "name": "python",
   "nbconvert_exporter": "python",
   "pygments_lexer": "ipython3",
   "version": "3.11.7"
  }
 },
 "nbformat": 4,
 "nbformat_minor": 2
}
