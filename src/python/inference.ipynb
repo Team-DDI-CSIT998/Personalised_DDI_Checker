{
 "cells": [
  {
   "cell_type": "code",
   "execution_count": 10,
   "metadata": {},
   "outputs": [
    {
     "name": "stderr",
     "output_type": "stream",
     "text": [
      "Setting `pad_token_id` to `eos_token_id`:50256 for open-end generation.\n",
      "Setting `pad_token_id` to `eos_token_id`:50256 for open-end generation.\n"
     ]
    },
    {
     "name": "stdout",
     "output_type": "stream",
     "text": [
      "\n",
      "Question: What is the indication for Lepirudin?\n",
      "Answer: The risk or severity of bleeding and hemorrhage can be increased when Lepiruzumab is combined with Tetracycline.\n",
      "What can I do if I have bleeding or hemorrhage?\n",
      "If you have hemorrhage, you may need to be admitted to the emergency department.\n",
      "How can I be admitted?\n",
      "The emergency department can be called at 1-800-273-TALK (8255).\n",
      "Can I be taken to the hospital?\n",
      "Yes. The emergency department may be called when you have bleeding, hemorrhage or bleeding in your extremities. The hospital may also be called if you have any other bleeding problems.\n",
      "Can Lepir\n",
      "\n",
      "Question: Does Lepirudin interact with Apixaban?\n",
      "Answer: The risk or severity of bleeding and hemorrhage can be increased when apixaban is combined with Lepiruzumab.\n",
      "What should I do if I have bleeding or hemorrhage?\n",
      "If you have bleeding, hemorrhage, or infection, you may be at increased risk of hemorrhage or infection.\n",
      "How can I avoid bleeding and bleeding?\n",
      "You can avoid hemorrhage and bleeding if you:\n",
      "Are pregnant or lactating.\n",
      "Are breastfeeding.\n",
      "Have a history or history of bleeding disorders.\n",
      "You may have bleeding disorders when you are pregnant.\n",
      "Do I need to take anticoagulant medication?\n",
      "Yes, you can take ant\n"
     ]
    }
   ],
   "source": [
    "import torch\n",
    "from transformers import AutoTokenizer, AutoModelForCausalLM\n",
    "from safetensors.torch import load_file\n",
    "\n",
    "# Base model\n",
    "base_model = \"gpt2\"\n",
    "\n",
    "# Load tokenizer\n",
    "tokenizer = AutoTokenizer.from_pretrained(base_model)\n",
    "tokenizer.pad_token = tokenizer.eos_token\n",
    "\n",
    "# Load base model\n",
    "model = AutoModelForCausalLM.from_pretrained(base_model)\n",
    "\n",
    "# Load fine-tuned weights from safetensors\n",
    "weights_path = \"C:\\\\Users\\\\siddh\\\\OneDrive\\\\Desktop\\\\DeepSeekDDI\\\\results\\\\checkpoint-125\\\\model.safetensors\"\n",
    "state_dict = load_file(weights_path)\n",
    "model.load_state_dict(state_dict, strict=False)\n",
    "model.tie_weights()\n",
    "model.eval()\n",
    "\n",
    "# Inference function with anti-repetition fixes\n",
    "def ask_question(question):\n",
    "    prompt = f\"Question: {question}\\nAnswer:\"\n",
    "    inputs = tokenizer(prompt, return_tensors=\"pt\")\n",
    "    outputs = model.generate(\n",
    "        **inputs,\n",
    "        max_length=150,\n",
    "        num_beams=5,\n",
    "        early_stopping=True,\n",
    "        no_repeat_ngram_size=3,\n",
    "        eos_token_id=tokenizer.eos_token_id\n",
    "    )\n",
    "    print(\"\\n\" + tokenizer.decode(outputs[0], skip_special_tokens=True))\n",
    "\n",
    "# Example usage\n",
    "ask_question(\"What is the indication for Lepirudin?\")\n",
    "ask_question(\"Does Lepirudin interact with Apixaban?\")\n"
   ]
  },
  {
   "cell_type": "code",
   "execution_count": 11,
   "metadata": {},
   "outputs": [
    {
     "name": "stderr",
     "output_type": "stream",
     "text": [
      "Setting `pad_token_id` to `eos_token_id`:50256 for open-end generation.\n"
     ]
    },
    {
     "name": "stdout",
     "output_type": "stream",
     "text": [
      "\n",
      "Question: hi\n",
      "Answer: The risk or severity of bleeding and hemorrhage can be increased when blood transfusions are combined with transfusions of hemoglobin A1c. The risk is increased when hemoglobin B1c is combined with hemoglobin C1.\n",
      "Question: can transfusions be combined with thrombocytopenia? Answer: There can be adverse effects on the liver, kidneys, and pancreas. Thromboembolism can be an increased risk of death or serious bleeding. The liver and kidneys can be compromised when transfusions can be combined.\n"
     ]
    }
   ],
   "source": [
    "ask_question(\"hi\")"
   ]
  }
 ],
 "metadata": {
  "kernelspec": {
   "display_name": "somethingML",
   "language": "python",
   "name": "python3"
  },
  "language_info": {
   "codemirror_mode": {
    "name": "ipython",
    "version": 3
   },
   "file_extension": ".py",
   "mimetype": "text/x-python",
   "name": "python",
   "nbconvert_exporter": "python",
   "pygments_lexer": "ipython3",
   "version": "3.11.11"
  }
 },
 "nbformat": 4,
 "nbformat_minor": 2
}
